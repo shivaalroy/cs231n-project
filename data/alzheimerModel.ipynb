{
 "cells": [
  {
   "cell_type": "code",
   "execution_count": 1,
   "metadata": {},
   "outputs": [],
   "source": [
    "%matplotlib inline"
   ]
  },
  {
   "cell_type": "code",
   "execution_count": 2,
   "metadata": {},
   "outputs": [
    {
     "name": "stderr",
     "output_type": "stream",
     "text": [
      "/home/shared/anaconda3/lib/python3.6/site-packages/h5py/__init__.py:36: FutureWarning: Conversion of the second argument of issubdtype from `float` to `np.floating` is deprecated. In future, it will be treated as `np.float64 == np.dtype(float).type`.\n",
      "  from ._conv import register_converters as _register_converters\n"
     ]
    }
   ],
   "source": [
    "import torch\n",
    "import torch.nn as nn\n",
    "import torch.optim as optim\n",
    "import torch.nn.functional as F\n",
    "import torchvision\n",
    "import torchvision.transforms as transforms\n",
    "from torch.utils.data import Dataset, DataLoader\n",
    "import glob\n",
    "import os.path as osp\n",
    "import numpy as np\n",
    "from PIL import Image\n",
    "\n",
    "from wrapper import OASIS\n",
    "from split import split_data"
   ]
  },
  {
   "cell_type": "code",
   "execution_count": 3,
   "metadata": {},
   "outputs": [
    {
     "name": "stdout",
     "output_type": "stream",
     "text": [
      "num filenames is 1463\n",
      "[['OAS30001_MR_d0129' '0.0']\n",
      " ['OAS30001_MR_d0757' '0.0']\n",
      " ['OAS30001_MR_d2430' '0.0']\n",
      " ['OAS30001_MR_d3132' '0.0']\n",
      " ['OAS30002_MR_d0371' '0.0']\n",
      " ['OAS30002_MR_d2340' '0.0']\n",
      " ['OAS30002_MR_d2345' '0.0']\n",
      " ['OAS30003_MR_d0558' '0.0']\n",
      " ['OAS30003_MR_d2669' '0.0']\n",
      " ['OAS30003_MR_d3731' '0.0']]\n",
      "1951\n",
      "num files with labels is 1340\n"
     ]
    }
   ],
   "source": [
    "train_filenames, val_filenames, test_filenames = split_data('scans', 'OASIS3_MRID2Label_051418.csv')"
   ]
  },
  {
   "cell_type": "code",
   "execution_count": 5,
   "metadata": {},
   "outputs": [
    {
     "name": "stdout",
     "output_type": "stream",
     "text": [
      "1072\n",
      "134\n",
      "134\n"
     ]
    }
   ],
   "source": [
    "print(len(train_filenames))\n",
    "print(len(val_filenames))\n",
    "print(len(test_filenames))"
   ]
  },
  {
   "cell_type": "code",
   "execution_count": 7,
   "metadata": {},
   "outputs": [
    {
     "name": "stdout",
     "output_type": "stream",
     "text": [
      "finished preloading\n",
      "finished preloading\n",
      "finished preloading\n"
     ]
    }
   ],
   "source": [
    "train_dataset = OASIS('scans', train_filenames, preload = True)\n",
    "val_dataset = OASIS('scans', val_filenames, preload = True)\n",
    "test_dataset = OASIS('scans', test_filenames, preload = True)"
   ]
  },
  {
   "cell_type": "code",
   "execution_count": 10,
   "metadata": {},
   "outputs": [
    {
     "name": "stdout",
     "output_type": "stream",
     "text": [
      "(256, 256)\n",
      "39720\n",
      "4934\n",
      "4865\n"
     ]
    }
   ],
   "source": [
    "image_array, label = train_dataset[4]\n",
    "print(image_array.shape)\n",
    "print(len(train_dataset))\n",
    "print(len(val_dataset))\n",
    "print(len(test_dataset))\n",
    "save_path = 'test_preview_scan/'"
   ]
  }
 ],
 "metadata": {
  "kernelspec": {
   "display_name": "Python 3",
   "language": "python",
   "name": "python3"
  },
  "language_info": {
   "codemirror_mode": {
    "name": "ipython",
    "version": 3.0
   },
   "file_extension": ".py",
   "mimetype": "text/x-python",
   "name": "python",
   "nbconvert_exporter": "python",
   "pygments_lexer": "ipython3",
   "version": "3.6.4"
  }
 },
 "nbformat": 4,
 "nbformat_minor": 0
}