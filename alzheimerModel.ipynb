{
 "cells": [
  {
   "cell_type": "code",
   "execution_count": 33,
   "metadata": {},
   "outputs": [
    {
     "name": "stdout",
     "output_type": "stream",
     "text": [
      "The autoreload extension is already loaded. To reload it, use:\n",
      "  %reload_ext autoreload\n"
     ]
    }
   ],
   "source": [
    "import glob\n",
    "import os\n",
    "import os.path as osp\n",
    "import numpy as np\n",
    "from torch.utils.data import Dataset, DataLoader\n",
    "from PIL import Image\n",
    "\n",
    "from utils import convert_nii_3d, get_trainable_slices\n",
    "from wrapper import OASIS\n",
    "from split import split_data\n",
    "\n",
    "%load_ext autoreload\n",
    "%autoreload 2"
   ]
  },
  {
   "cell_type": "code",
   "execution_count": 34,
   "metadata": {},
   "outputs": [],
   "source": [
    "scans_home = 'data/scans'\n",
    "labels_file = 'data/OASIS3_MRID2Label_052918.csv'"
   ]
  },
  {
   "cell_type": "code",
   "execution_count": 37,
   "metadata": {},
   "outputs": [
    {
     "name": "stdout",
     "output_type": "stream",
     "text": [
      "num labels is 2113\n",
      "num filenames is 2193\n",
      "num experiments is 1954\n",
      "OAS30134_MR_d0080 ('data/scans/OAS30134_MR_d0080/anat1/sub-OAS30134_sess-d0080_acq-TSE_T2w.nii.gz', '0.0')\n",
      "OAS30336_MR_d0012 ('data/scans/OAS30336_MR_d0012/anat1/sub-OAS30336_sess-d0012_acq-TSE_T2w.nii.gz', '0.0')\n",
      "OAS30087_MR_d0260 ('data/scans/OAS30087_MR_d0260/anat1/sub-OAS30087_sess-d0260_acq-TSE_T2w.nii.gz', '0.5')\n",
      "OAS30073_MR_d2851 ('data/scans/OAS30073_MR_d2851/anat1/sub-OAS30073_sess-d2851_acq-TSE_T2w.nii.gz', '0.0')\n",
      "OAS31125_MR_d3093 ('data/scans/OAS31125_MR_d3093/anat2/sub-OAS31125_sess-d3093_acq-TSE_T2w.nii.gz', '0.0')\n"
     ]
    },
    {
     "ename": "TypeError",
     "evalue": "'NoneType' object is not iterable",
     "output_type": "error",
     "traceback": [
      "\u001b[0;31m---------------------------------------------------------------------------\u001b[0m",
      "\u001b[0;31mTypeError\u001b[0m                                 Traceback (most recent call last)",
      "\u001b[0;32m<ipython-input-37-c70e4d4e03be>\u001b[0m in \u001b[0;36m<module>\u001b[0;34m()\u001b[0m\n\u001b[0;32m----> 1\u001b[0;31m \u001b[0mtrain_filenames\u001b[0m\u001b[0;34m,\u001b[0m \u001b[0mval_filenames\u001b[0m\u001b[0;34m,\u001b[0m \u001b[0mtest_filenames\u001b[0m \u001b[0;34m=\u001b[0m \u001b[0msplit_data\u001b[0m\u001b[0;34m(\u001b[0m\u001b[0mscans_home\u001b[0m\u001b[0;34m,\u001b[0m \u001b[0mlabels_file\u001b[0m\u001b[0;34m)\u001b[0m\u001b[0;34m\u001b[0m\u001b[0m\n\u001b[0m",
      "\u001b[0;31mTypeError\u001b[0m: 'NoneType' object is not iterable"
     ]
    }
   ],
   "source": [
    "train_filenames, val_filenames, test_filenames = split_data(scans_home, labels_file)"
   ]
  },
  {
   "cell_type": "code",
   "execution_count": 5,
   "metadata": {},
   "outputs": [
    {
     "name": "stdout",
     "output_type": "stream",
     "text": [
      "1072\n",
      "134\n",
      "134\n"
     ]
    }
   ],
   "source": [
    "print(len(train_filenames))\n",
    "print(len(val_filenames))\n",
    "print(len(test_filenames))"
   ]
  },
  {
   "cell_type": "code",
   "execution_count": 7,
   "metadata": {},
   "outputs": [
    {
     "name": "stdout",
     "output_type": "stream",
     "text": [
      "finished preloading\n",
      "finished preloading\n",
      "finished preloading\n"
     ]
    }
   ],
   "source": [
    "train_dataset = OASIS('scans', train_filenames, preload = True)\n",
    "val_dataset = OASIS('scans', val_filenames, preload = True)\n",
    "test_dataset = OASIS('scans', test_filenames, preload = True)"
   ]
  },
  {
   "cell_type": "code",
   "execution_count": 10,
   "metadata": {},
   "outputs": [
    {
     "name": "stdout",
     "output_type": "stream",
     "text": [
      "(256, 256)\n",
      "39720\n",
      "4934\n",
      "4865\n"
     ]
    }
   ],
   "source": [
    "image_array, label = train_dataset[4]\n",
    "print(image_array.shape)\n",
    "print(len(train_dataset))\n",
    "print(len(val_dataset))\n",
    "print(len(test_dataset))\n",
    "save_path = 'test_preview_scan/'"
   ]
  },
  {
   "cell_type": "code",
   "execution_count": 35,
   "metadata": {
    "scrolled": true
   },
   "outputs": [
    {
     "name": "stdout",
     "output_type": "stream",
     "text": [
      "(256, 256, 36)\n",
      "0 (256, 256) 18.835647583007812\n",
      "1 (256, 256) 19.651214599609375\n",
      "2 (256, 256) 18.936920166015625\n",
      "3 (256, 256) 17.616287231445312\n",
      "4 (256, 256) 17.561676025390625\n",
      "5 (256, 256) 17.472305297851562\n",
      "6 (256, 256) 16.920806884765625\n",
      "7 (256, 256) 16.721939086914062\n",
      "8 (256, 256) 17.168563842773438\n",
      "9 (256, 256) 17.397903442382812\n",
      "10 (256, 256) 17.559188842773438\n",
      "11 (256, 256) 17.627609252929688\n",
      "12 (256, 256) 17.915206909179688\n",
      "13 (256, 256) 18.420913696289062\n",
      "14 (256, 256) 19.616134643554688\n",
      "15 (256, 256) 19.139511108398438\n",
      "16 (256, 256) 18.763336181640625\n",
      "17 (256, 256) 17.83941650390625\n",
      "18 (256, 256) 17.493011474609375\n",
      "19 (256, 256) 17.338897705078125\n",
      "20 (256, 256) 17.54119873046875\n",
      "21 (256, 256) 17.26580810546875\n",
      "22 (256, 256) 17.243606567382812\n",
      "23 (256, 256) 16.181503295898438\n",
      "24 (256, 256) 16.340194702148438\n",
      "25 (256, 256) 16.035018920898438\n",
      "26 (256, 256) 15.744766235351562\n",
      "27 (256, 256) 14.8021240234375\n",
      "28 (256, 256) 14.424560546875\n",
      "29 (256, 256) 13.15753173828125\n",
      "30 (256, 256) 12.497421264648438\n",
      "31 (256, 256) 11.617324829101562\n",
      "32 (256, 256) 10.764053344726562\n",
      "33 (256, 256) 7.9859161376953125\n",
      "34 (256, 256) 5.833251953125\n",
      "35 (256, 256) 3.8807525634765625\n"
     ]
    }
   ],
   "source": [
    "# get np H, W, D image\n",
    "img = convert_nii_3d('data/scans/OAS30001_MR_d0129/anat1/sub-OAS30001_sess-d0129_acq-TSE_T2w.nii.gz') #preview_scan\n",
    "# img = convert_nii_3d('data/scans/OAS30001_MR_d2430/anat2/sub-OAS30001_sess-d2430_acq-TSE_T2w.nii.gz') #preview_scan_anat2_TSE\n",
    "# img = convert_nii_3d('data/scans/OAS30001_MR_d0129/anat4/sub-OAS30001_sess-d0129_T2w.nii.gz') #preview_scan_non_TSE\n",
    "print(img.shape)\n",
    "# loop over indices and print out mean of slice\n",
    "for i in range(img.shape[2]):\n",
    "    print(i, img[:,:,i].shape, img[:,:,i].mean())"
   ]
  },
  {
   "cell_type": "code",
   "execution_count": 10,
   "metadata": {},
   "outputs": [
    {
     "name": "stdout",
     "output_type": "stream",
     "text": [
      "(256, 256, 36)\n",
      "[18.83564758 19.6512146  18.93692017 17.61628723 17.56167603 17.4723053\n",
      " 16.92080688 16.72193909 17.16856384 17.39790344 17.55918884 17.62760925\n",
      " 17.91520691 18.4209137  19.61613464 19.13951111 18.76333618 17.8394165\n",
      " 17.49301147 17.33889771 17.54119873 17.26580811 17.24360657 16.1815033\n",
      " 16.3401947  16.03501892 15.74476624 14.80212402 14.42456055 13.15753174\n",
      " 12.49742126 11.61732483 10.76405334  7.98591614  5.83325195  3.88075256]\n"
     ]
    }
   ],
   "source": [
    "# print out mean of all slices using np.mean (axis)\n",
    "print(img.shape)\n",
    "print(img.reshape(-1, img.shape[2]).mean(axis=0))"
   ]
  },
  {
   "cell_type": "code",
   "execution_count": 19,
   "metadata": {},
   "outputs": [
    {
     "name": "stdout",
     "output_type": "stream",
     "text": [
      "32.42316228693182\n"
     ]
    }
   ],
   "source": [
    "#print out max mean of all slices using mean max\n",
    "print(img.reshape(-1, img.shape[2]).mean(axis=0).max())"
   ]
  },
  {
   "cell_type": "code",
   "execution_count": 41,
   "metadata": {},
   "outputs": [
    {
     "name": "stdout",
     "output_type": "stream",
     "text": [
      "[ 93  94  95  96  97  98  99 100 101 102 103 104 105 106 107 108 109 110\n",
      " 111 112 113 114 115 116 117 118 119 120 121 122 123 124 125 126 127 128\n",
      " 129 130 131 132 133 134 135 136 137 138 139 140 141 142 143 144 145 146\n",
      " 147 148 149 150 151 152 153 154 155 156 157 158 159 160 161 162]\n"
     ]
    }
   ],
   "source": [
    "# get all images that are above a threshold\n",
    "THRESHOLD_VAL = 0.75\n",
    "threshold = img.reshape(-1, img.shape[2]).mean(axis=0).max() * THRESHOLD_VAL\n",
    "print(np.arange(img.shape[2])[img.reshape(-1, img.shape[2]).mean(axis=0) > threshold])"
   ]
  },
  {
   "cell_type": "code",
   "execution_count": 36,
   "metadata": {},
   "outputs": [
    {
     "name": "stdout",
     "output_type": "stream",
     "text": [
      "[10 11 12 13 14 15 16 17 18 19 20 21 22 23 24 25 26 27 28]\n"
     ]
    }
   ],
   "source": [
    "print(np.arange(img.shape[2])[get_trainable_slices(img)])"
   ]
  },
  {
   "cell_type": "code",
   "execution_count": null,
   "metadata": {},
   "outputs": [],
   "source": []
  }
 ],
 "metadata": {
  "kernelspec": {
   "display_name": "Python 3",
   "language": "python",
   "name": "python3"
  },
  "language_info": {
   "codemirror_mode": {
    "name": "ipython",
    "version": 3
   },
   "file_extension": ".py",
   "mimetype": "text/x-python",
   "name": "python",
   "nbconvert_exporter": "python",
   "pygments_lexer": "ipython3",
   "version": "3.6.4"
  }
 },
 "nbformat": 4,
 "nbformat_minor": 2
}
